{
 "cells": [
  {
   "cell_type": "code",
   "execution_count": 1,
   "metadata": {},
   "outputs": [],
   "source": [
    "import requests\n",
    "from bs4 import BeautifulSoup\n",
    "from selenium import webdriver"
   ]
  },
  {
   "cell_type": "code",
   "execution_count": 2,
   "metadata": {},
   "outputs": [],
   "source": [
    "url = 'https://www.latam.com/es_ar/apps/personas/booking?fecha1_dia=25&fecha1_anomes=2019-10&fecha2_dia=12&fecha2_anomes=2019-11&from_city2=MAD&to_city2=BUE&auAvailability=1&ida_vuelta=ida_vuelta&vuelos_origen=Buenos%20Aires&from_city1=BUE&vuelos_destino=Madrid&to_city1=MAD&flex=1&vuelos_fecha_salida_ddmmaaaa=25/10/2019&vuelos_fecha_regreso_ddmmaaaa=12/11/2019&cabina=Y&nadults=1&nchildren=0&ninfants=0&cod_promo='"
   ]
  },
  {
   "cell_type": "code",
   "execution_count": 3,
   "metadata": {},
   "outputs": [],
   "source": [
    "agent = {\"User-Agent\":\"Mozilla/5.0\"}\n",
    "r = requests.get(url, headers=agent)"
   ]
  },
  {
   "cell_type": "code",
   "execution_count": 4,
   "metadata": {},
   "outputs": [
    {
     "data": {
      "text/plain": [
       "200"
      ]
     },
     "execution_count": 4,
     "metadata": {},
     "output_type": "execute_result"
    }
   ],
   "source": [
    "r.status_code"
   ]
  },
  {
   "cell_type": "code",
   "execution_count": 5,
   "metadata": {},
   "outputs": [],
   "source": [
    "s = BeautifulSoup(r.text, 'lxml')"
   ]
  },
  {
   "cell_type": "code",
   "execution_count": 6,
   "metadata": {},
   "outputs": [],
   "source": [
    "from tqdm import tqdm"
   ]
  },
  {
   "cell_type": "code",
   "execution_count": 32,
   "metadata": {},
   "outputs": [],
   "source": [
    "url='https://www.latam.com/es_ar/apps/personas/booking?fecha1_dia=17&fecha1_anomes=2021-04&fecha2_dia=24&fecha2_anomes=2021-09&otras_ciudades=&num_segmentos_interfaz=2&tipo_paso1=caja&rand_check=486.3230058787316&from_city2=MAD&to_city2=BUE&auAvailability=1&ida_vuelta=ida_vuelta&vuelos_origen=Buenos%20Aires,%20Argentina%20(BUE)&from_city1=BUE&vuelos_destino=Madrid,%20Espa%F1a%20(MAD)&to_city1=MAD&flex=1&vuelos_fecha_salida=27/DIC/2020&vuelos_fecha_salida_ddmmaaaa=27/12/2020&vuelos_fecha_regreso=21/ENE/2021&vuelos_fecha_regreso_ddmmaaaa=21/01/2021&cabina=Y&nadults=1&nchildren=0&ninfants=0&application=#/'\n",
    "driver = webdriver.Safari()\n",
    "driver.get(url)"
   ]
  },
  {
   "cell_type": "markdown",
   "metadata": {},
   "source": [
    "Extraer la información de la página"
   ]
  },
  {
   "cell_type": "code",
   "execution_count": 8,
   "metadata": {},
   "outputs": [],
   "source": [
    "vuelos = driver.find_elements_by_xpath('//li[@class=\"flight\"]')"
   ]
  },
  {
   "cell_type": "code",
   "execution_count": 9,
   "metadata": {},
   "outputs": [
    {
     "data": {
      "text/plain": [
       "[<selenium.webdriver.remote.webelement.WebElement (session=\"654FEAA4-D8F4-46AB-A968-1B506B600D10\", element=\"node-D567A037-276F-423D-81D0-AEAAE6038574\")>,\n",
       " <selenium.webdriver.remote.webelement.WebElement (session=\"654FEAA4-D8F4-46AB-A968-1B506B600D10\", element=\"node-FEF7170E-CDEA-4EF0-9916-D9E15934B78F\")>,\n",
       " <selenium.webdriver.remote.webelement.WebElement (session=\"654FEAA4-D8F4-46AB-A968-1B506B600D10\", element=\"node-B1B008B4-A6EC-4DEF-8888-5D2D817645F1\")>,\n",
       " <selenium.webdriver.remote.webelement.WebElement (session=\"654FEAA4-D8F4-46AB-A968-1B506B600D10\", element=\"node-E996BF86-FF75-476A-A6B4-8DA00D039131\")>,\n",
       " <selenium.webdriver.remote.webelement.WebElement (session=\"654FEAA4-D8F4-46AB-A968-1B506B600D10\", element=\"node-82DC170B-278C-47DF-8324-307B134B5F18\")>,\n",
       " <selenium.webdriver.remote.webelement.WebElement (session=\"654FEAA4-D8F4-46AB-A968-1B506B600D10\", element=\"node-A184B999-3608-45D2-B7C1-1D8EF1B1C840\")>,\n",
       " <selenium.webdriver.remote.webelement.WebElement (session=\"654FEAA4-D8F4-46AB-A968-1B506B600D10\", element=\"node-03BEED1F-9120-4EAB-9497-39D19C940EC9\")>,\n",
       " <selenium.webdriver.remote.webelement.WebElement (session=\"654FEAA4-D8F4-46AB-A968-1B506B600D10\", element=\"node-32D2C141-D1E4-4786-B2A2-CD081240C460\")>,\n",
       " <selenium.webdriver.remote.webelement.WebElement (session=\"654FEAA4-D8F4-46AB-A968-1B506B600D10\", element=\"node-E1A2DD1B-D89C-407E-B129-83FE17025893\")>,\n",
       " <selenium.webdriver.remote.webelement.WebElement (session=\"654FEAA4-D8F4-46AB-A968-1B506B600D10\", element=\"node-3EC5280B-0B88-462A-92A7-ECCD8B9BCE92\")>,\n",
       " <selenium.webdriver.remote.webelement.WebElement (session=\"654FEAA4-D8F4-46AB-A968-1B506B600D10\", element=\"node-4F3B1AE8-1958-438A-A336-AAC73D2D685C\")>,\n",
       " <selenium.webdriver.remote.webelement.WebElement (session=\"654FEAA4-D8F4-46AB-A968-1B506B600D10\", element=\"node-8B12AAAD-7D41-4CAD-9AD1-C1E963BC1719\")>,\n",
       " <selenium.webdriver.remote.webelement.WebElement (session=\"654FEAA4-D8F4-46AB-A968-1B506B600D10\", element=\"node-543A5AE3-B719-44D3-911B-3E57C1291B82\")>,\n",
       " <selenium.webdriver.remote.webelement.WebElement (session=\"654FEAA4-D8F4-46AB-A968-1B506B600D10\", element=\"node-B102B937-0412-49D4-8E22-5C98434D4EE0\")>,\n",
       " <selenium.webdriver.remote.webelement.WebElement (session=\"654FEAA4-D8F4-46AB-A968-1B506B600D10\", element=\"node-99A2FCEA-D39E-4D6B-95EA-234838742C6C\")>,\n",
       " <selenium.webdriver.remote.webelement.WebElement (session=\"654FEAA4-D8F4-46AB-A968-1B506B600D10\", element=\"node-6C521FDF-FAAB-4BB7-B254-95CEBE4D948C\")>,\n",
       " <selenium.webdriver.remote.webelement.WebElement (session=\"654FEAA4-D8F4-46AB-A968-1B506B600D10\", element=\"node-33A86AB1-C776-4946-8E8A-C2977B5F3B26\")>,\n",
       " <selenium.webdriver.remote.webelement.WebElement (session=\"654FEAA4-D8F4-46AB-A968-1B506B600D10\", element=\"node-99DE195D-CC78-44B0-9D17-1D001FB02CC3\")>,\n",
       " <selenium.webdriver.remote.webelement.WebElement (session=\"654FEAA4-D8F4-46AB-A968-1B506B600D10\", element=\"node-7A69664B-7EAB-474B-9322-1F2DD7418BA0\")>,\n",
       " <selenium.webdriver.remote.webelement.WebElement (session=\"654FEAA4-D8F4-46AB-A968-1B506B600D10\", element=\"node-0891E333-BF7C-4ECF-B3F7-396AF75E6618\")>,\n",
       " <selenium.webdriver.remote.webelement.WebElement (session=\"654FEAA4-D8F4-46AB-A968-1B506B600D10\", element=\"node-9BA6C616-EBA1-4FB0-A12C-F20901189EAB\")>,\n",
       " <selenium.webdriver.remote.webelement.WebElement (session=\"654FEAA4-D8F4-46AB-A968-1B506B600D10\", element=\"node-593A4F52-8B22-408D-90A6-D092806B1B23\")>,\n",
       " <selenium.webdriver.remote.webelement.WebElement (session=\"654FEAA4-D8F4-46AB-A968-1B506B600D10\", element=\"node-F7901EA6-E2C0-4E98-A1C6-C9C60281F3D7\")>,\n",
       " <selenium.webdriver.remote.webelement.WebElement (session=\"654FEAA4-D8F4-46AB-A968-1B506B600D10\", element=\"node-192D3FC8-3853-449B-948D-88EB6644BD64\")>,\n",
       " <selenium.webdriver.remote.webelement.WebElement (session=\"654FEAA4-D8F4-46AB-A968-1B506B600D10\", element=\"node-C2B92419-E051-4F09-A8FD-38777D717B6E\")>,\n",
       " <selenium.webdriver.remote.webelement.WebElement (session=\"654FEAA4-D8F4-46AB-A968-1B506B600D10\", element=\"node-FD677C32-E80F-484A-B702-B3784A2B8573\")>,\n",
       " <selenium.webdriver.remote.webelement.WebElement (session=\"654FEAA4-D8F4-46AB-A968-1B506B600D10\", element=\"node-C3A49B0E-20F6-4F26-BE2A-CC12DE68705F\")>,\n",
       " <selenium.webdriver.remote.webelement.WebElement (session=\"654FEAA4-D8F4-46AB-A968-1B506B600D10\", element=\"node-8440AAB1-672A-4282-8352-69BE694C9AE1\")>,\n",
       " <selenium.webdriver.remote.webelement.WebElement (session=\"654FEAA4-D8F4-46AB-A968-1B506B600D10\", element=\"node-DD37FCD0-6B31-4C00-B460-F923795DC6C5\")>,\n",
       " <selenium.webdriver.remote.webelement.WebElement (session=\"654FEAA4-D8F4-46AB-A968-1B506B600D10\", element=\"node-83BD1C72-4F69-481D-91E0-374DC5442BF0\")>,\n",
       " <selenium.webdriver.remote.webelement.WebElement (session=\"654FEAA4-D8F4-46AB-A968-1B506B600D10\", element=\"node-F8B05E3A-0945-41FE-B902-613FECA1CE12\")>,\n",
       " <selenium.webdriver.remote.webelement.WebElement (session=\"654FEAA4-D8F4-46AB-A968-1B506B600D10\", element=\"node-0F1F17A2-A67A-4C80-8554-A2A42F3955A5\")>,\n",
       " <selenium.webdriver.remote.webelement.WebElement (session=\"654FEAA4-D8F4-46AB-A968-1B506B600D10\", element=\"node-B317FD65-1FA2-4405-91C2-ECFA399AC5BC\")>,\n",
       " <selenium.webdriver.remote.webelement.WebElement (session=\"654FEAA4-D8F4-46AB-A968-1B506B600D10\", element=\"node-6BB9E22E-C8C4-4CEB-80C3-D2CD8E3EE9C3\")>,\n",
       " <selenium.webdriver.remote.webelement.WebElement (session=\"654FEAA4-D8F4-46AB-A968-1B506B600D10\", element=\"node-E2F4BB0A-F44A-40A0-91E4-D0C73F28EC87\")>,\n",
       " <selenium.webdriver.remote.webelement.WebElement (session=\"654FEAA4-D8F4-46AB-A968-1B506B600D10\", element=\"node-CE243245-DD40-4A2F-B7F4-01B423EFF201\")>,\n",
       " <selenium.webdriver.remote.webelement.WebElement (session=\"654FEAA4-D8F4-46AB-A968-1B506B600D10\", element=\"node-EDB76421-A1B4-49A9-ADBC-8DB1E45BB16B\")>,\n",
       " <selenium.webdriver.remote.webelement.WebElement (session=\"654FEAA4-D8F4-46AB-A968-1B506B600D10\", element=\"node-37349B9F-5BCE-4E7F-9A9C-80896DEAB3C5\")>,\n",
       " <selenium.webdriver.remote.webelement.WebElement (session=\"654FEAA4-D8F4-46AB-A968-1B506B600D10\", element=\"node-7DCDF8D6-DACB-4B4F-9894-B83E8BB383A5\")>,\n",
       " <selenium.webdriver.remote.webelement.WebElement (session=\"654FEAA4-D8F4-46AB-A968-1B506B600D10\", element=\"node-534A0C07-BC7C-45DC-9DAC-8DA04AD2E307\")>,\n",
       " <selenium.webdriver.remote.webelement.WebElement (session=\"654FEAA4-D8F4-46AB-A968-1B506B600D10\", element=\"node-707A66B8-C82D-4DAE-9647-03EAD3CB9F05\")>,\n",
       " <selenium.webdriver.remote.webelement.WebElement (session=\"654FEAA4-D8F4-46AB-A968-1B506B600D10\", element=\"node-512B1E2E-4654-4716-83B8-D288E40CE82B\")>,\n",
       " <selenium.webdriver.remote.webelement.WebElement (session=\"654FEAA4-D8F4-46AB-A968-1B506B600D10\", element=\"node-BF3A1DF4-57AC-4C88-92CB-E6DF1E3A51AD\")>]"
      ]
     },
     "execution_count": 9,
     "metadata": {},
     "output_type": "execute_result"
    }
   ],
   "source": [
    "vuelos"
   ]
  },
  {
   "cell_type": "code",
   "execution_count": 10,
   "metadata": {},
   "outputs": [
    {
     "data": {
      "text/plain": [
       "<selenium.webdriver.remote.webelement.WebElement (session=\"654FEAA4-D8F4-46AB-A968-1B506B600D10\", element=\"node-D567A037-276F-423D-81D0-AEAAE6038574\")>"
      ]
     },
     "execution_count": 10,
     "metadata": {},
     "output_type": "execute_result"
    }
   ],
   "source": [
    "vuelo = vuelos[0]\n",
    "vuelo"
   ]
  },
  {
   "cell_type": "markdown",
   "metadata": {},
   "source": [
    "#### Hora de llegada, hora de salida y duración "
   ]
  },
  {
   "cell_type": "code",
   "execution_count": 11,
   "metadata": {},
   "outputs": [
    {
     "data": {
      "text/plain": [
       "'18:00'"
      ]
     },
     "execution_count": 11,
     "metadata": {},
     "output_type": "execute_result"
    }
   ],
   "source": [
    "# Hora de salida\n",
    "salida = vuelo.find_element_by_xpath('.//div[@class=\"departure\"]/time').get_attribute('datetime')\n",
    "salida"
   ]
  },
  {
   "cell_type": "code",
   "execution_count": 12,
   "metadata": {},
   "outputs": [
    {
     "data": {
      "text/plain": [
       "'14:10'"
      ]
     },
     "execution_count": 12,
     "metadata": {},
     "output_type": "execute_result"
    }
   ],
   "source": [
    "# Hora de llegada\n",
    "llegada = vuelo.find_element_by_xpath('.//div[@class=\"arrival\"]/time').get_attribute('datetime')\n",
    "llegada"
   ]
  },
  {
   "cell_type": "code",
   "execution_count": 13,
   "metadata": {},
   "outputs": [
    {
     "data": {
      "text/plain": [
       "'15H10M'"
      ]
     },
     "execution_count": 13,
     "metadata": {},
     "output_type": "execute_result"
    }
   ],
   "source": [
    "# Duración\n",
    "duracion = vuelo.find_element_by_xpath('.//span[@class=\"duration\"]/time').get_attribute('datetime')\n",
    "formatear = duracion.replace('PT','')\n",
    "formatear"
   ]
  },
  {
   "cell_type": "markdown",
   "metadata": {},
   "source": [
    "### Escalas "
   ]
  },
  {
   "cell_type": "markdown",
   "metadata": {},
   "source": [
    "La cantidad de escalas aparece en un `<div class='flight-summary-stops-description'>`"
   ]
  },
  {
   "cell_type": "code",
   "execution_count": 16,
   "metadata": {},
   "outputs": [],
   "source": [
    "boton_escalas = vuelo.find_element_by_xpath('.//div[@class =\"flight-summary-stops-description\"]/button')"
   ]
  },
  {
   "cell_type": "code",
   "execution_count": 17,
   "metadata": {},
   "outputs": [
    {
     "data": {
      "text/plain": [
       "<selenium.webdriver.remote.webelement.WebElement (session=\"654FEAA4-D8F4-46AB-A968-1B506B600D10\", element=\"node-C9028D44-8643-4B61-9BBE-73CCC7E5297C\")>"
      ]
     },
     "execution_count": 17,
     "metadata": {},
     "output_type": "execute_result"
    }
   ],
   "source": [
    "boton_escalas"
   ]
  },
  {
   "cell_type": "markdown",
   "metadata": {},
   "source": [
    "Damos click al botón"
   ]
  },
  {
   "cell_type": "code",
   "execution_count": 18,
   "metadata": {},
   "outputs": [],
   "source": [
    "boton_escalas.click()"
   ]
  },
  {
   "cell_type": "code",
   "execution_count": 19,
   "metadata": {},
   "outputs": [
    {
     "data": {
      "text/plain": [
       "[<selenium.webdriver.remote.webelement.WebElement (session=\"654FEAA4-D8F4-46AB-A968-1B506B600D10\", element=\"node-1CD31689-C4EB-47C4-B7B1-9E0D03D4C41A\")>,\n",
       " <selenium.webdriver.remote.webelement.WebElement (session=\"654FEAA4-D8F4-46AB-A968-1B506B600D10\", element=\"node-B22152D8-968D-4B73-A9CB-5B9F66F050CD\")>]"
      ]
     },
     "execution_count": 19,
     "metadata": {},
     "output_type": "execute_result"
    }
   ],
   "source": [
    "segmentos = vuelo.find_elements_by_xpath('//div[@class=\"sc-hZSUBg gfeULV\"]/div[@class=\"sc-cLQEGU hyoued\"]')\n",
    "segmentos"
   ]
  },
  {
   "cell_type": "code",
   "execution_count": 20,
   "metadata": {},
   "outputs": [],
   "source": [
    "escalas = len(segmentos) - 1 #0 escalas si es un vuelo directo"
   ]
  },
  {
   "cell_type": "markdown",
   "metadata": {},
   "source": [
    "Analizamos solo un segmento de la lista"
   ]
  },
  {
   "cell_type": "code",
   "execution_count": 21,
   "metadata": {},
   "outputs": [],
   "source": [
    "segmento = segmentos[0]"
   ]
  },
  {
   "cell_type": "code",
   "execution_count": null,
   "metadata": {},
   "outputs": [],
   "source": [
    "segmento.get_attribute('class')"
   ]
  },
  {
   "cell_type": "code",
   "execution_count": 22,
   "metadata": {},
   "outputs": [
    {
     "data": {
      "text/plain": [
       "'18:00EZESalida a las 18 Horas 00 Minutos, de Ezeiza Intl.Ezeiza Intl.2h h 50min min de duración20:50GRULlegada a las 20 Horas 50 Minutos, a Guarulhos Intl.Guarulhos Intl.Vuelo LA8013Airbus 320-200Operado por LATAM Airlines Brasil'"
      ]
     },
     "execution_count": 22,
     "metadata": {},
     "output_type": "execute_result"
    }
   ],
   "source": [
    "segmento.text"
   ]
  },
  {
   "cell_type": "markdown",
   "metadata": {},
   "source": [
    "De cada segmento necesitamos:\n",
    "- origen\n",
    "- hora de salida\n",
    "- destino\n",
    "- hora de llegada\n",
    "- duración del vuelo\n",
    "- numero de vuelo\n",
    "- modelo de avion\n",
    "- duración de la escala"
   ]
  },
  {
   "cell_type": "code",
   "execution_count": 23,
   "metadata": {},
   "outputs": [
    {
     "data": {
      "text/plain": [
       "'EZE'"
      ]
     },
     "execution_count": 23,
     "metadata": {},
     "output_type": "execute_result"
    }
   ],
   "source": [
    "# Origen\n",
    "segmento.find_element_by_xpath('.//div[@class=\"sc-bwCtUz iybVbT\"]/abbr[@class=\"sc-hrWEMg hlCkST\"]').text"
   ]
  },
  {
   "cell_type": "code",
   "execution_count": 24,
   "metadata": {},
   "outputs": [
    {
     "data": {
      "text/plain": [
       "'18:00'"
      ]
     },
     "execution_count": 24,
     "metadata": {},
     "output_type": "execute_result"
    }
   ],
   "source": [
    "# Duracion\n",
    "segmento.find_element_by_xpath('.//div[@class=\"sc-bwCtUz iybVbT\"]/time').text"
   ]
  },
  {
   "cell_type": "markdown",
   "metadata": {},
   "source": [
    "Cierro el pop-up"
   ]
  },
  {
   "cell_type": "code",
   "execution_count": null,
   "metadata": {},
   "outputs": [],
   "source": [
    "driver.find_element_by_xpath('//div[@class=\"modal-content sc-iwsKbI eHVGAN\"]//button[@class=\"close\"]').click()"
   ]
  },
  {
   "cell_type": "markdown",
   "metadata": {},
   "source": [
    "Doy click para ver la información de las tarifas"
   ]
  },
  {
   "cell_type": "code",
   "execution_count": null,
   "metadata": {},
   "outputs": [],
   "source": [
    "vuelo.click()"
   ]
  },
  {
   "cell_type": "code",
   "execution_count": null,
   "metadata": {},
   "outputs": [],
   "source": [
    "tarifas = vuelo.find_elements_by_xpath('.//div[@class=\"fares-table-container\"]//tfoot//td[contains(@class, \"fare-\")]')"
   ]
  },
  {
   "cell_type": "markdown",
   "metadata": {},
   "source": [
    "Extraigo la información de todas las tarifas"
   ]
  },
  {
   "cell_type": "code",
   "execution_count": null,
   "metadata": {},
   "outputs": [],
   "source": [
    "precios = []\n",
    "for tarifa in tarifas:\n",
    "    nombre = tarifa.find_element_by_xpath('.//label').get_attribute('for')\n",
    "    moneda = tarifa.find_element_by_xpath('.//span[@class=\"price\"]/span[@class=\"currency-symbol\"]').text\n",
    "    valor = tarifa.find_element_by_xpath('.//span[@class=\"price\"]/span[@class=\"value\"]').text \n",
    "    dict_tarifa={nombre:{'moneda':moneda, 'valor':valor}}\n",
    "    precios.append(dict_tarifa)\n",
    "    print(dict_tarifa)"
   ]
  },
  {
   "cell_type": "code",
   "execution_count": 28,
   "metadata": {},
   "outputs": [],
   "source": [
    "vuelo.click()"
   ]
  },
  {
   "cell_type": "markdown",
   "metadata": {},
   "source": [
    "## Juntamos todo"
   ]
  },
  {
   "cell_type": "markdown",
   "metadata": {},
   "source": [
    "### Función precios "
   ]
  },
  {
   "cell_type": "code",
   "execution_count": 29,
   "metadata": {},
   "outputs": [],
   "source": [
    "def obtener_precios(vuelo):\n",
    "    tarifas = vuelo.find_elements_by_xpath(\n",
    "        './/div[@class=\"fares-table-container\"]//tfoot//td[contains(@class, \"fare-\")]')\n",
    "    precios = []\n",
    "    for tarifa in tarifas:\n",
    "        nombre = tarifa.find_element_by_xpath('.//label').get_attribute('for')\n",
    "        moneda = tarifa.find_element_by_xpath('.//span[@class=\"price\"]/span[@class=\"currency-symbol\"]').text\n",
    "        valor = tarifa.find_element_by_xpath('.//span[@class=\"price\"]/span[@class=\"value\"]').text \n",
    "        dict_tarifa={nombre:{'moneda':moneda, 'valor':valor}}\n",
    "        precios.append(dict_tarifa)\n",
    "    return precios"
   ]
  },
  {
   "cell_type": "code",
   "execution_count": 30,
   "metadata": {},
   "outputs": [
    {
     "data": {
      "text/plain": [
       "[{'LIGHT': {'moneda': 'ARS', 'valor': '50.403,38'}},\n",
       " {'PLUS': {'moneda': 'ARS', 'valor': '58.014,38'}},\n",
       " {'TOP': {'moneda': 'ARS', 'valor': '66.385,62'}}]"
      ]
     },
     "execution_count": 30,
     "metadata": {},
     "output_type": "execute_result"
    }
   ],
   "source": [
    "obtener_precios(vuelo) #Probamos"
   ]
  },
  {
   "cell_type": "markdown",
   "metadata": {},
   "source": [
    "### Función escalas"
   ]
  },
  {
   "cell_type": "code",
   "execution_count": 25,
   "metadata": {},
   "outputs": [],
   "source": [
    "def obtener_datos_escalas(vuelo):\n",
    "    segmentos = vuelo.find_elements_by_xpath('//div[@class=\"sc-hZSUBg gfeULV\"]/div[@class=\"sc-cLQEGU hyoued\"]')\n",
    "    info_escalas = []\n",
    "    for segmento in segmentos:\n",
    "        # Origen\n",
    "        origen = segmento.find_element_by_xpath(\n",
    "            './/div[@class=\"sc-bwCtUz iybVbT\"]/abbr[@class=\"sc-hrWEMg hlCkST\"]').text\n",
    "        # Duración del vuelo\n",
    "        duracion_vuelo = segmento.find_element_by_xpath('.//div[@class=\"sc-bwCtUz iybVbT\"]/time').text\n",
    "\n",
    "        # Armo un diccionario para almacenar los datos\n",
    "        data_dict={'origen': origen, \n",
    "                    'duracion_vuelo': duracion_vuelo}\n",
    "        info_escalas.append(data_dict)\n",
    "        \n",
    "    return info_escalas"
   ]
  },
  {
   "cell_type": "code",
   "execution_count": 26,
   "metadata": {},
   "outputs": [
    {
     "data": {
      "text/plain": [
       "[{'origen': 'EZE', 'duracion_vuelo': '18:00'},\n",
       " {'origen': 'GRU', 'duracion_vuelo': '22:55'}]"
      ]
     },
     "execution_count": 26,
     "metadata": {},
     "output_type": "execute_result"
    }
   ],
   "source": [
    "obtener_datos_escalas(vuelo)"
   ]
  },
  {
   "cell_type": "markdown",
   "metadata": {},
   "source": [
    "### Función tiempos"
   ]
  },
  {
   "cell_type": "code",
   "execution_count": 14,
   "metadata": {},
   "outputs": [],
   "source": [
    "def obtener_tiempos(vuelo):\n",
    "    # Hora de salida\n",
    "    salida = vuelo.find_element_by_xpath('.//div[@class=\"departure\"]/time').get_attribute('datetime')\n",
    "    # Hora de llegada\n",
    "    llegada = vuelo.find_element_by_xpath('.//div[@class=\"arrival\"]/time').get_attribute('datetime')\n",
    "    # Duracion\n",
    "    duracion = vuelo.find_element_by_xpath('.//span[@class=\"duration\"]/time').get_attribute('datetime')\n",
    "    return {'hora_salida': salida, 'hora_llegada': llegada, 'duracion': duracion}"
   ]
  },
  {
   "cell_type": "code",
   "execution_count": 15,
   "metadata": {},
   "outputs": [
    {
     "data": {
      "text/plain": [
       "{'hora_salida': '18:00', 'hora_llegada': '14:10', 'duracion': 'PT15H10M'}"
      ]
     },
     "execution_count": 15,
     "metadata": {},
     "output_type": "execute_result"
    }
   ],
   "source": [
    "obtener_tiempos(vuelo)"
   ]
  },
  {
   "cell_type": "markdown",
   "metadata": {},
   "source": [
    "# Toda la información sobre un vuelo"
   ]
  },
  {
   "cell_type": "code",
   "execution_count": 33,
   "metadata": {},
   "outputs": [],
   "source": [
    "def obtener_info(driver):\n",
    "    vuelos = driver.find_elements_by_xpath('//li[@class=\"flight\"]')\n",
    "    print(f'Se encontraron {len(vuelos)} vuelos.')\n",
    "    print('Iniciando scraping...')\n",
    "    info = []\n",
    "    for vuelo in tqdm(vuelos):\n",
    "        # Obtenemos los tiempos generales del vuelo\n",
    "        tiempos = obtener_tiempos(vuelo)\n",
    "        # Clickeamos el botón de escalas para ver los detalles\n",
    "        boton_escalas = vuelo.find_element_by_xpath('.//div[@class =\"flight-summary-stops-description\"]/button')\n",
    "        boton_escalas.click()\n",
    "        escalas = obtener_datos_escalas(vuelo)\n",
    "        # Cerramos el pop-up con los detalles\n",
    "        driver.find_element_by_xpath('//div[@class=\"modal-content sc-iwsKbI eHVGAN\"]//button[@class=\"close\"]').click()\n",
    "        # Clickeamos el vuelo para ver los precios\n",
    "        vuelo.click()\n",
    "        precios = obtener_precios(vuelo)\n",
    "        info.append({'precios':precios, 'tiempos':tiempos , 'escalas': escalas})\n",
    "    return info"
   ]
  },
  {
   "cell_type": "code",
   "execution_count": 34,
   "metadata": {},
   "outputs": [
    {
     "name": "stderr",
     "output_type": "stream",
     "text": [
      "\r",
      "  0%|          | 0/43 [00:00<?, ?it/s]"
     ]
    },
    {
     "name": "stdout",
     "output_type": "stream",
     "text": [
      "Se encontraron 43 vuelos.\n",
      "Iniciando scraping...\n"
     ]
    },
    {
     "name": "stderr",
     "output_type": "stream",
     "text": [
      "100%|██████████| 43/43 [01:52<00:00,  2.63s/it]\n"
     ]
    },
    {
     "data": {
      "text/plain": [
       "[{'precios': [{'LIGHT': {'moneda': 'ARS', 'valor': '50.403,38'}},\n",
       "   {'PLUS': {'moneda': 'ARS', 'valor': '58.014,38'}},\n",
       "   {'TOP': {'moneda': 'ARS', 'valor': '66.385,62'}}],\n",
       "  'tiempos': {'hora_salida': '18:00',\n",
       "   'hora_llegada': '14:10',\n",
       "   'duracion': 'PT15H10M'},\n",
       "  'escalas': [{'origen': 'EZE', 'duracion_vuelo': '18:00'},\n",
       "   {'origen': 'GRU', 'duracion_vuelo': '22:55'}]},\n",
       " {'precios': [{'LIGHT': {'moneda': 'ARS', 'valor': '50.403,38'}},\n",
       "   {'PLUS': {'moneda': 'ARS', 'valor': '58.014,38'}},\n",
       "   {'TOP': {'moneda': 'ARS', 'valor': '66.385,62'}}],\n",
       "  'tiempos': {'hora_salida': '15:35',\n",
       "   'hora_llegada': '14:10',\n",
       "   'duracion': 'PT17H35M'},\n",
       "  'escalas': [{'origen': 'EZE', 'duracion_vuelo': '15:35'},\n",
       "   {'origen': 'GRU', 'duracion_vuelo': '22:55'}]},\n",
       " {'precios': [{'LIGHT': {'moneda': 'ARS', 'valor': '50.403,38'}},\n",
       "   {'PLUS': {'moneda': 'ARS', 'valor': '58.014,38'}},\n",
       "   {'TOP': {'moneda': 'ARS', 'valor': '66.385,62'}}],\n",
       "  'tiempos': {'hora_salida': '12:40',\n",
       "   'hora_llegada': '12:50',\n",
       "   'duracion': 'PT19H10M'},\n",
       "  'escalas': [{'origen': 'EZE', 'duracion_vuelo': '12:40'},\n",
       "   {'origen': 'SCL', 'duracion_vuelo': '17:55'}]},\n",
       " {'precios': [{'LIGHT': {'moneda': 'ARS', 'valor': '50.403,38'}},\n",
       "   {'PLUS': {'moneda': 'ARS', 'valor': '58.014,38'}},\n",
       "   {'TOP': {'moneda': 'ARS', 'valor': '66.385,62'}}],\n",
       "  'tiempos': {'hora_salida': '11:18',\n",
       "   'hora_llegada': '12:50',\n",
       "   'duracion': 'PT20H32M'},\n",
       "  'escalas': [{'origen': 'EZE', 'duracion_vuelo': '11:18'},\n",
       "   {'origen': 'SCL', 'duracion_vuelo': '17:55'}]},\n",
       " {'precios': [{'LIGHT': {'moneda': 'ARS', 'valor': '50.403,38'}},\n",
       "   {'PLUS': {'moneda': 'ARS', 'valor': '58.014,38'}},\n",
       "   {'TOP': {'moneda': 'ARS', 'valor': '66.385,62'}}],\n",
       "  'tiempos': {'hora_salida': '12:35',\n",
       "   'hora_llegada': '14:10',\n",
       "   'duracion': 'PT20H35M'},\n",
       "  'escalas': [{'origen': 'EZE', 'duracion_vuelo': '12:35'},\n",
       "   {'origen': 'GRU', 'duracion_vuelo': '22:55'}]},\n",
       " {'precios': [{'LIGHT': {'moneda': 'ARS', 'valor': '50.403,38'}},\n",
       "   {'PLUS': {'moneda': 'ARS', 'valor': '58.014,38'}},\n",
       "   {'TOP': {'moneda': 'ARS', 'valor': '66.385,62'}}],\n",
       "  'tiempos': {'hora_salida': '07:00',\n",
       "   'hora_llegada': '12:50',\n",
       "   'duracion': 'PT24H50M'},\n",
       "  'escalas': [{'origen': 'EZE', 'duracion_vuelo': '07:00'},\n",
       "   {'origen': 'SCL', 'duracion_vuelo': '17:55'}]},\n",
       " {'precios': [{'LIGHT': {'moneda': 'ARS', 'valor': '50.403,38'}},\n",
       "   {'PLUS': {'moneda': 'ARS', 'valor': '58.014,38'}},\n",
       "   {'TOP': {'moneda': 'ARS', 'valor': '66.385,62'}}],\n",
       "  'tiempos': {'hora_salida': '08:15',\n",
       "   'hora_llegada': '14:10',\n",
       "   'duracion': 'PT24H55M'},\n",
       "  'escalas': [{'origen': 'EZE', 'duracion_vuelo': '08:15'},\n",
       "   {'origen': 'GRU', 'duracion_vuelo': '22:55'}]},\n",
       " {'precios': [{'LIGHT': {'moneda': 'ARS', 'valor': '50.403,38'}},\n",
       "   {'PLUS': {'moneda': 'ARS', 'valor': '58.014,38'}},\n",
       "   {'TOP': {'moneda': 'ARS', 'valor': '66.385,62'}}],\n",
       "  'tiempos': {'hora_salida': '06:15',\n",
       "   'hora_llegada': '12:50',\n",
       "   'duracion': 'PT25H35M'},\n",
       "  'escalas': [{'origen': 'EZE', 'duracion_vuelo': '06:15'},\n",
       "   {'origen': 'SCL', 'duracion_vuelo': '17:55'}]},\n",
       " {'precios': [{'LIGHT': {'moneda': 'ARS', 'valor': '91.198,34'}},\n",
       "   {'PLUS': {'moneda': 'ARS', 'valor': '85.109,54'}},\n",
       "   {'TOP': {'moneda': 'ARS', 'valor': '95.307,42'}}],\n",
       "  'tiempos': {'hora_salida': '07:50',\n",
       "   'hora_llegada': '18:05',\n",
       "   'duracion': 'PT29H15M'},\n",
       "  'escalas': [{'origen': 'EZE', 'duracion_vuelo': '07:50'},\n",
       "   {'origen': 'LIM', 'duracion_vuelo': '22:55'}]},\n",
       " {'precios': [{'LIGHT': {'moneda': 'ARS', 'valor': '139.603,87'}},\n",
       "   {'PLUS': {'moneda': 'ARS', 'valor': '126.512,95'}},\n",
       "   {'TOP': {'moneda': 'ARS', 'valor': '140.973,42'}}],\n",
       "  'tiempos': {'hora_salida': '07:50',\n",
       "   'hora_llegada': '14:15',\n",
       "   'duracion': 'PT25H25M'},\n",
       "  'escalas': [{'origen': 'EZE', 'duracion_vuelo': '07:50'},\n",
       "   {'origen': 'LIM', 'duracion_vuelo': '20:45'}]},\n",
       " {'precios': [{'LIGHT': {'moneda': 'ARS', 'valor': '52.685,82'}},\n",
       "   {'PLUS': {'moneda': 'ARS', 'valor': '60.601,26'}},\n",
       "   {'TOP': {'moneda': 'ARS', 'valor': '69.402,68'}}],\n",
       "  'tiempos': {'hora_salida': '12:40',\n",
       "   'hora_llegada': '14:10',\n",
       "   'duracion': 'PT20H30M'},\n",
       "  'escalas': [{'origen': 'EZE', 'duracion_vuelo': '12:40'},\n",
       "   {'origen': 'SCL', 'duracion_vuelo': '15:55'},\n",
       "   {'origen': 'GRU', 'duracion_vuelo': '22:55'}]},\n",
       " {'precios': [{'LIGHT': {'moneda': 'ARS', 'valor': '52.685,82'}},\n",
       "   {'PLUS': {'moneda': 'ARS', 'valor': '60.601,26'}},\n",
       "   {'TOP': {'moneda': 'ARS', 'valor': '69.402,68'}}],\n",
       "  'tiempos': {'hora_salida': '11:18',\n",
       "   'hora_llegada': '14:10',\n",
       "   'duracion': 'PT21H52M'},\n",
       "  'escalas': [{'origen': 'EZE', 'duracion_vuelo': '11:18'},\n",
       "   {'origen': 'SCL', 'duracion_vuelo': '15:55'},\n",
       "   {'origen': 'GRU', 'duracion_vuelo': '22:55'}]},\n",
       " {'precios': [{'LIGHT': {'moneda': 'ARS', 'valor': '63.189,86'}},\n",
       "   {'PLUS': {'moneda': 'ARS', 'valor': '73.692,18'}},\n",
       "   {'TOP': {'moneda': 'ARS', 'valor': '85.109,54'}}],\n",
       "  'tiempos': {'hora_salida': '08:15',\n",
       "   'hora_llegada': '12:50',\n",
       "   'duracion': 'PT23H35M'},\n",
       "  'escalas': [{'origen': 'EZE', 'duracion_vuelo': '08:15'},\n",
       "   {'origen': 'GRU', 'duracion_vuelo': '13:40'},\n",
       "   {'origen': 'SCL', 'duracion_vuelo': '17:55'}]},\n",
       " {'precios': [{'LIGHT': {'moneda': 'ARS', 'valor': '79.476,54'}},\n",
       "   {'PLUS': {'moneda': 'ARS', 'valor': '88.914,18'}},\n",
       "   {'TOP': {'moneda': 'ARS', 'valor': '99.722,66'}}],\n",
       "  'tiempos': {'hora_salida': '12:40',\n",
       "   'hora_llegada': '18:05',\n",
       "   'duracion': 'PT24H25M'},\n",
       "  'escalas': [{'origen': 'EZE', 'duracion_vuelo': '12:40'},\n",
       "   {'origen': 'SCL', 'duracion_vuelo': '18:20'},\n",
       "   {'origen': 'LIM', 'duracion_vuelo': '22:55'}]},\n",
       " {'precios': [{'LIGHT': {'moneda': 'ARS', 'valor': '79.476,54'}},\n",
       "   {'PLUS': {'moneda': 'ARS', 'valor': '88.914,18'}},\n",
       "   {'TOP': {'moneda': 'ARS', 'valor': '99.722,66'}}],\n",
       "  'tiempos': {'hora_salida': '12:40',\n",
       "   'hora_llegada': '18:05',\n",
       "   'duracion': 'PT24H25M'},\n",
       "  'escalas': [{'origen': 'EZE', 'duracion_vuelo': '12:40'},\n",
       "   {'origen': 'SCL', 'duracion_vuelo': '16:12'},\n",
       "   {'origen': 'LIM', 'duracion_vuelo': '22:55'}]},\n",
       " {'precios': [{'LIGHT': {'moneda': 'ARS', 'valor': '79.476,54'}},\n",
       "   {'PLUS': {'moneda': 'ARS', 'valor': '88.914,18'}},\n",
       "   {'TOP': {'moneda': 'ARS', 'valor': '99.722,66'}}],\n",
       "  'tiempos': {'hora_salida': '11:18',\n",
       "   'hora_llegada': '18:05',\n",
       "   'duracion': 'PT25H47M'},\n",
       "  'escalas': [{'origen': 'EZE', 'duracion_vuelo': '11:18'},\n",
       "   {'origen': 'SCL', 'duracion_vuelo': '18:20'},\n",
       "   {'origen': 'LIM', 'duracion_vuelo': '22:55'}]},\n",
       " {'precios': [{'LIGHT': {'moneda': 'ARS', 'valor': '79.476,54'}},\n",
       "   {'PLUS': {'moneda': 'ARS', 'valor': '88.914,18'}},\n",
       "   {'TOP': {'moneda': 'ARS', 'valor': '99.722,66'}}],\n",
       "  'tiempos': {'hora_salida': '11:18',\n",
       "   'hora_llegada': '18:05',\n",
       "   'duracion': 'PT25H47M'},\n",
       "  'escalas': [{'origen': 'EZE', 'duracion_vuelo': '11:18'},\n",
       "   {'origen': 'SCL', 'duracion_vuelo': '16:12'},\n",
       "   {'origen': 'LIM', 'duracion_vuelo': '22:55'}]},\n",
       " {'precios': [{'LIGHT': {'moneda': 'ARS', 'valor': '79.476,54'}},\n",
       "   {'PLUS': {'moneda': 'ARS', 'valor': '88.914,18'}},\n",
       "   {'TOP': {'moneda': 'ARS', 'valor': '99.722,66'}}],\n",
       "  'tiempos': {'hora_salida': '11:18',\n",
       "   'hora_llegada': '18:05',\n",
       "   'duracion': 'PT25H47M'},\n",
       "  'escalas': [{'origen': 'EZE', 'duracion_vuelo': '11:18'},\n",
       "   {'origen': 'SCL', 'duracion_vuelo': '14:07'},\n",
       "   {'origen': 'LIM', 'duracion_vuelo': '22:55'}]},\n",
       " {'precios': [{'LIGHT': {'moneda': 'ARS', 'valor': '79.476,54'}},\n",
       "   {'PLUS': {'moneda': 'ARS', 'valor': '88.914,18'}},\n",
       "   {'TOP': {'moneda': 'ARS', 'valor': '99.722,66'}}],\n",
       "  'tiempos': {'hora_salida': '11:18',\n",
       "   'hora_llegada': '18:05',\n",
       "   'duracion': 'PT25H47M'},\n",
       "  'escalas': [{'origen': 'EZE', 'duracion_vuelo': '11:18'},\n",
       "   {'origen': 'SCL', 'duracion_vuelo': '14:29'},\n",
       "   {'origen': 'LIM', 'duracion_vuelo': '22:55'}]},\n",
       " {'precios': [{'LIGHT': {'moneda': 'ARS', 'valor': '52.685,82'}},\n",
       "   {'PLUS': {'moneda': 'ARS', 'valor': '60.601,26'}},\n",
       "   {'TOP': {'moneda': 'ARS', 'valor': '69.402,68'}}],\n",
       "  'tiempos': {'hora_salida': '22:01',\n",
       "   'hora_llegada': '14:10',\n",
       "   'duracion': 'PT35H9M'},\n",
       "  'escalas': [{'origen': 'EZE', 'duracion_vuelo': '22:01'},\n",
       "   {'origen': 'SCL', 'duracion_vuelo': '08:30'},\n",
       "   {'origen': 'GRU', 'duracion_vuelo': '22:55'}]},\n",
       " {'precios': [{'LIGHT': {'moneda': 'ARS', 'valor': '79.476,54'}},\n",
       "   {'PLUS': {'moneda': 'ARS', 'valor': '88.914,18'}},\n",
       "   {'TOP': {'moneda': 'ARS', 'valor': '99.722,66'}}],\n",
       "  'tiempos': {'hora_salida': '22:01',\n",
       "   'hora_llegada': '14:10',\n",
       "   'duracion': 'PT35H9M'},\n",
       "  'escalas': [{'origen': 'EZE', 'duracion_vuelo': '22:01'},\n",
       "   {'origen': 'SCL', 'duracion_vuelo': '06:00'},\n",
       "   {'origen': 'GRU', 'duracion_vuelo': '22:55'}]},\n",
       " {'precios': [{'LIGHT': {'moneda': 'ARS', 'valor': '63.189,86'}},\n",
       "   {'PLUS': {'moneda': 'ARS', 'valor': '73.692,18'}},\n",
       "   {'TOP': {'moneda': 'ARS', 'valor': '85.109,54'}}],\n",
       "  'tiempos': {'hora_salida': '19:35',\n",
       "   'hora_llegada': '12:50',\n",
       "   'duracion': 'PT36H15M'},\n",
       "  'escalas': [{'origen': 'EZE', 'duracion_vuelo': '19:35'},\n",
       "   {'origen': 'GRU', 'duracion_vuelo': '06:45'},\n",
       "   {'origen': 'SCL', 'duracion_vuelo': '17:55'}]},\n",
       " {'precios': [{'LIGHT': {'moneda': 'ARS', 'valor': '64.103,18'}},\n",
       "   {'PLUS': {'moneda': 'ARS', 'valor': '74.149,70'}},\n",
       "   {'TOP': {'moneda': 'ARS', 'valor': '84.956,46'}}],\n",
       "  'tiempos': {'hora_salida': '20:08',\n",
       "   'hora_llegada': '14:10',\n",
       "   'duracion': 'PT37H2M'},\n",
       "  'escalas': [{'origen': 'EZE', 'duracion_vuelo': '20:08'},\n",
       "   {'origen': 'LIM', 'duracion_vuelo': '09:35'},\n",
       "   {'origen': 'GRU', 'duracion_vuelo': '22:55'}]},\n",
       " {'precios': [{'LIGHT': {'moneda': 'ARS', 'valor': '52.685,82'}},\n",
       "   {'PLUS': {'moneda': 'ARS', 'valor': '60.601,26'}},\n",
       "   {'TOP': {'moneda': 'ARS', 'valor': '69.402,68'}}],\n",
       "  'tiempos': {'hora_salida': '19:35',\n",
       "   'hora_llegada': '14:10',\n",
       "   'duracion': 'PT37H35M'},\n",
       "  'escalas': [{'origen': 'EZE', 'duracion_vuelo': '19:35'},\n",
       "   {'origen': 'SCL', 'duracion_vuelo': '08:30'},\n",
       "   {'origen': 'GRU', 'duracion_vuelo': '22:55'}]},\n",
       " {'precios': [{'LIGHT': {'moneda': 'ARS', 'valor': '79.476,54'}},\n",
       "   {'PLUS': {'moneda': 'ARS', 'valor': '88.914,18'}},\n",
       "   {'TOP': {'moneda': 'ARS', 'valor': '99.722,66'}}],\n",
       "  'tiempos': {'hora_salida': '19:35',\n",
       "   'hora_llegada': '14:10',\n",
       "   'duracion': 'PT37H35M'},\n",
       "  'escalas': [{'origen': 'EZE', 'duracion_vuelo': '19:35'},\n",
       "   {'origen': 'SCL', 'duracion_vuelo': '06:00'},\n",
       "   {'origen': 'GRU', 'duracion_vuelo': '22:55'}]},\n",
       " {'precios': [{'LIGHT': {'moneda': 'ARS', 'valor': '70.120,32'}},\n",
       "   {'PLUS': {'moneda': 'ARS', 'valor': '62.813,76'}},\n",
       "   {'TOP': {'moneda': 'ARS', 'valor': '71.615,18'}}],\n",
       "  'tiempos': {'hora_salida': '18:20',\n",
       "   'hora_llegada': '14:10',\n",
       "   'duracion': 'PT38H50M'},\n",
       "  'escalas': [{'origen': 'EZE', 'duracion_vuelo': '18:20'},\n",
       "   {'origen': 'SCL', 'duracion_vuelo': '08:30'},\n",
       "   {'origen': 'GRU', 'duracion_vuelo': '22:55'}]},\n",
       " {'precios': [{'LIGHT': {'moneda': 'ARS', 'valor': '70.800,86'}},\n",
       "   {'PLUS': {'moneda': 'ARS', 'valor': '79.780,98'}},\n",
       "   {'TOP': {'moneda': 'ARS', 'valor': '90.100,14'}}],\n",
       "  'tiempos': {'hora_salida': '18:20',\n",
       "   'hora_llegada': '14:10',\n",
       "   'duracion': 'PT38H50M'},\n",
       "  'escalas': [{'origen': 'EZE', 'duracion_vuelo': '18:20'},\n",
       "   {'origen': 'SCL', 'duracion_vuelo': '06:00'},\n",
       "   {'origen': 'GRU', 'duracion_vuelo': '22:55'}]},\n",
       " {'precios': [{'LIGHT': {'moneda': 'ARS', 'valor': '78.107,42'}},\n",
       "   {'PLUS': {'moneda': 'ARS', 'valor': '62.885,42'}},\n",
       "   {'TOP': {'moneda': 'ARS', 'valor': '72.474,42'}}],\n",
       "  'tiempos': {'hora_salida': '12:40',\n",
       "   'hora_llegada': '14:15',\n",
       "   'duracion': 'PT20H35M'},\n",
       "  'escalas': [{'origen': 'EZE', 'duracion_vuelo': '12:40'},\n",
       "   {'origen': 'SCL', 'duracion_vuelo': '16:12'},\n",
       "   {'origen': 'LIM', 'duracion_vuelo': '20:45'}]},\n",
       " {'precios': [{'LIGHT': {'moneda': 'ARS', 'valor': '120.438,58'}},\n",
       "   {'PLUS': {'moneda': 'ARS', 'valor': '133.985,30'}},\n",
       "   {'TOP': {'moneda': 'ARS', 'valor': '149.207,30'}}],\n",
       "  'tiempos': {'hora_salida': '19:35',\n",
       "   'hora_llegada': '22:10',\n",
       "   'duracion': 'PT21H35M'},\n",
       "  'escalas': [{'origen': 'EZE', 'duracion_vuelo': '19:35'},\n",
       "   {'origen': 'GRU', 'duracion_vuelo': '23:50'},\n",
       "   {'origen': 'LHR', 'duracion_vuelo': '18:45'}]},\n",
       " {'precios': [{'LIGHT': {'moneda': 'ARS', 'valor': '120.438,58'}},\n",
       "   {'PLUS': {'moneda': 'ARS', 'valor': '133.985,30'}},\n",
       "   {'TOP': {'moneda': 'ARS', 'valor': '149.207,30'}}],\n",
       "  'tiempos': {'hora_salida': '19:35',\n",
       "   'hora_llegada': '22:10',\n",
       "   'duracion': 'PT21H35M'},\n",
       "  'escalas': [{'origen': 'EZE', 'duracion_vuelo': '19:35'},\n",
       "   {'origen': 'GRU', 'duracion_vuelo': '23:50'},\n",
       "   {'origen': 'LHR', 'duracion_vuelo': '18:40'}]},\n",
       " {'precios': [{'LIGHT': {'moneda': 'ARS', 'valor': '78.107,42'}},\n",
       "   {'PLUS': {'moneda': 'ARS', 'valor': '62.885,42'}},\n",
       "   {'TOP': {'moneda': 'ARS', 'valor': '72.474,42'}}],\n",
       "  'tiempos': {'hora_salida': '11:18',\n",
       "   'hora_llegada': '14:15',\n",
       "   'duracion': 'PT21H57M'},\n",
       "  'escalas': [{'origen': 'EZE', 'duracion_vuelo': '11:18'},\n",
       "   {'origen': 'SCL', 'duracion_vuelo': '16:12'},\n",
       "   {'origen': 'LIM', 'duracion_vuelo': '20:45'}]},\n",
       " {'precios': [{'LIGHT': {'moneda': 'ARS', 'valor': '120.438,58'}},\n",
       "   {'PLUS': {'moneda': 'ARS', 'valor': '133.985,30'}},\n",
       "   {'TOP': {'moneda': 'ARS', 'valor': '149.207,30'}}],\n",
       "  'tiempos': {'hora_salida': '18:00',\n",
       "   'hora_llegada': '22:10',\n",
       "   'duracion': 'PT23H10M'},\n",
       "  'escalas': [{'origen': 'EZE', 'duracion_vuelo': '18:00'},\n",
       "   {'origen': 'GRU', 'duracion_vuelo': '23:50'},\n",
       "   {'origen': 'LHR', 'duracion_vuelo': '18:40'}]},\n",
       " {'precios': [{'LIGHT': {'moneda': 'ARS', 'valor': '120.438,58'}},\n",
       "   {'PLUS': {'moneda': 'ARS', 'valor': '133.985,30'}},\n",
       "   {'TOP': {'moneda': 'ARS', 'valor': '149.207,30'}}],\n",
       "  'tiempos': {'hora_salida': '18:00',\n",
       "   'hora_llegada': '22:10',\n",
       "   'duracion': 'PT23H10M'},\n",
       "  'escalas': [{'origen': 'EZE', 'duracion_vuelo': '18:00'},\n",
       "   {'origen': 'GRU', 'duracion_vuelo': '23:50'},\n",
       "   {'origen': 'LHR', 'duracion_vuelo': '18:45'}]},\n",
       " {'precios': [{'LIGHT': {'moneda': 'ARS', 'valor': '120.438,58'}},\n",
       "   {'PLUS': {'moneda': 'ARS', 'valor': '133.985,30'}},\n",
       "   {'TOP': {'moneda': 'ARS', 'valor': '149.207,30'}}],\n",
       "  'tiempos': {'hora_salida': '15:35',\n",
       "   'hora_llegada': '22:10',\n",
       "   'duracion': 'PT25H35M'},\n",
       "  'escalas': [{'origen': 'EZE', 'duracion_vuelo': '15:35'},\n",
       "   {'origen': 'GRU', 'duracion_vuelo': '23:50'},\n",
       "   {'origen': 'LHR', 'duracion_vuelo': '18:40'}]},\n",
       " {'precios': [{'LIGHT': {'moneda': 'ARS', 'valor': '78.107,42'}},\n",
       "   {'PLUS': {'moneda': 'ARS', 'valor': '62.885,42'}},\n",
       "   {'TOP': {'moneda': 'ARS', 'valor': '72.474,42'}}],\n",
       "  'tiempos': {'hora_salida': '07:00',\n",
       "   'hora_llegada': '14:15',\n",
       "   'duracion': 'PT26H15M'},\n",
       "  'escalas': [{'origen': 'EZE', 'duracion_vuelo': '07:00'},\n",
       "   {'origen': 'SCL', 'duracion_vuelo': '14:07'},\n",
       "   {'origen': 'LIM', 'duracion_vuelo': '20:45'}]},\n",
       " {'precios': [{'LIGHT': {'moneda': 'ARS', 'valor': '78.107,42'}},\n",
       "   {'PLUS': {'moneda': 'ARS', 'valor': '62.885,42'}},\n",
       "   {'TOP': {'moneda': 'ARS', 'valor': '72.474,42'}}],\n",
       "  'tiempos': {'hora_salida': '07:00',\n",
       "   'hora_llegada': '14:15',\n",
       "   'duracion': 'PT26H15M'},\n",
       "  'escalas': [{'origen': 'EZE', 'duracion_vuelo': '07:00'},\n",
       "   {'origen': 'SCL', 'duracion_vuelo': '16:12'},\n",
       "   {'origen': 'LIM', 'duracion_vuelo': '20:45'}]},\n",
       " {'precios': [{'LIGHT': {'moneda': 'ARS', 'valor': '78.107,42'}},\n",
       "   {'PLUS': {'moneda': 'ARS', 'valor': '62.885,42'}},\n",
       "   {'TOP': {'moneda': 'ARS', 'valor': '72.474,42'}}],\n",
       "  'tiempos': {'hora_salida': '07:00',\n",
       "   'hora_llegada': '14:15',\n",
       "   'duracion': 'PT26H15M'},\n",
       "  'escalas': [{'origen': 'EZE', 'duracion_vuelo': '07:00'},\n",
       "   {'origen': 'SCL', 'duracion_vuelo': '11:09'},\n",
       "   {'origen': 'LIM', 'duracion_vuelo': '20:45'}]},\n",
       " {'precios': [{'LIGHT': {'moneda': 'ARS', 'valor': '78.107,42'}},\n",
       "   {'PLUS': {'moneda': 'ARS', 'valor': '62.885,42'}},\n",
       "   {'TOP': {'moneda': 'ARS', 'valor': '72.474,42'}}],\n",
       "  'tiempos': {'hora_salida': '07:00',\n",
       "   'hora_llegada': '14:15',\n",
       "   'duracion': 'PT26H15M'},\n",
       "  'escalas': [{'origen': 'EZE', 'duracion_vuelo': '07:00'},\n",
       "   {'origen': 'SCL', 'duracion_vuelo': '14:29'},\n",
       "   {'origen': 'LIM', 'duracion_vuelo': '20:45'}]},\n",
       " {'precios': [{'LIGHT': {'moneda': 'ARS', 'valor': '51.766,58'}},\n",
       "   {'PLUS': {'moneda': 'ARS', 'valor': '59.377,58'}},\n",
       "   {'TOP': {'moneda': 'ARS', 'valor': '67.748,82'}}],\n",
       "  'tiempos': {'hora_salida': '12:35',\n",
       "   'hora_llegada': '12:10',\n",
       "   'duracion': 'PT18H35M'},\n",
       "  'escalas': [{'origen': 'EZE', 'duracion_vuelo': '12:35'},\n",
       "   {'origen': 'GRU', 'duracion_vuelo': '17:20'},\n",
       "   {'origen': 'LIS', 'duracion_vuelo': '09:45'}]},\n",
       " {'precios': [{'LIGHT': {'moneda': 'ARS', 'valor': '58.247,00'}},\n",
       "   {'PLUS': {'moneda': 'ARS', 'valor': '66.619,96'}},\n",
       "   {'TOP': {'moneda': 'ARS', 'valor': '75.876,44'}}],\n",
       "  'tiempos': {'hora_salida': '18:00',\n",
       "   'hora_llegada': '19:45',\n",
       "   'duracion': 'PT20H45M'},\n",
       "  'escalas': [{'origen': 'EZE', 'duracion_vuelo': '18:00'},\n",
       "   {'origen': 'GRU', 'duracion_vuelo': '22:40'},\n",
       "   {'origen': 'FRA', 'duracion_vuelo': '17:10'}]},\n",
       " {'precios': [{'LIGHT': {'moneda': 'ARS', 'valor': '58.247,00'}},\n",
       "   {'PLUS': {'moneda': 'ARS', 'valor': '66.619,96'}},\n",
       "   {'TOP': {'moneda': 'ARS', 'valor': '75.876,44'}}],\n",
       "  'tiempos': {'hora_salida': '15:35',\n",
       "   'hora_llegada': '19:45',\n",
       "   'duracion': 'PT23H10M'},\n",
       "  'escalas': [{'origen': 'EZE', 'duracion_vuelo': '15:35'},\n",
       "   {'origen': 'GRU', 'duracion_vuelo': '22:40'},\n",
       "   {'origen': 'FRA', 'duracion_vuelo': '17:10'}]},\n",
       " {'precios': [{'LIGHT': {'moneda': 'ARS', 'valor': '58.247,00'}},\n",
       "   {'PLUS': {'moneda': 'ARS', 'valor': '66.619,96'}},\n",
       "   {'TOP': {'moneda': 'ARS', 'valor': '75.876,44'}}],\n",
       "  'tiempos': {'hora_salida': '15:35',\n",
       "   'hora_llegada': '21:55',\n",
       "   'duracion': 'PT25H20M'},\n",
       "  'escalas': [{'origen': 'EZE', 'duracion_vuelo': '15:35'},\n",
       "   {'origen': 'GRU', 'duracion_vuelo': '22:40'},\n",
       "   {'origen': 'FRA', 'duracion_vuelo': '19:05'}]},\n",
       " {'precios': [{'PLUS': {'moneda': 'ARS', 'valor': '66.619,96'}},\n",
       "   {'TOP': {'moneda': 'ARS', 'valor': '75.876,44'}}],\n",
       "  'tiempos': {'hora_salida': '15:35',\n",
       "   'hora_llegada': '21:55',\n",
       "   'duracion': 'PT25H20M'},\n",
       "  'escalas': [{'origen': 'EZE', 'duracion_vuelo': '15:35'},\n",
       "   {'origen': 'GRU', 'duracion_vuelo': '22:40'},\n",
       "   {'origen': 'FRA', 'duracion_vuelo': '19:10'}]}]"
      ]
     },
     "execution_count": 34,
     "metadata": {},
     "output_type": "execute_result"
    }
   ],
   "source": [
    "obtener_info(driver)"
   ]
  },
  {
   "cell_type": "code",
   "execution_count": 37,
   "metadata": {},
   "outputs": [],
   "source": [
    "#Para cerrar navegador\n",
    "driver.close()"
   ]
  },
  {
   "cell_type": "markdown",
   "metadata": {},
   "source": [
    "# Introducir demoras"
   ]
  },
  {
   "cell_type": "code",
   "execution_count": 35,
   "metadata": {},
   "outputs": [],
   "source": [
    "from selenium.webdriver.support.ui import WebDriverWait \n",
    "from selenium.webdriver.support import expected_conditions as EC #Espera a que se cumpla determinada condición\n",
    "from selenium.webdriver.common.by import By \n",
    "from selenium.common.exceptions import TimeoutException"
   ]
  },
  {
   "cell_type": "code",
   "execution_count": 38,
   "metadata": {},
   "outputs": [
    {
     "name": "stderr",
     "output_type": "stream",
     "text": [
      "\r",
      "  0%|          | 0/43 [00:00<?, ?it/s]"
     ]
    },
    {
     "name": "stdout",
     "output_type": "stream",
     "text": [
      "La página terminó de cargar\n",
      "Se encontraron 43 vuelos.\n",
      "Iniciando scraping...\n"
     ]
    },
    {
     "name": "stderr",
     "output_type": "stream",
     "text": [
      "100%|██████████| 43/43 [01:44<00:00,  2.43s/it]\n"
     ]
    }
   ],
   "source": [
    "url='https://www.latam.com/es_ar/apps/personas/booking?fecha1_dia=17&fecha1_anomes=2021-04&fecha2_dia=24&fecha2_anomes=2021-09&otras_ciudades=&num_segmentos_interfaz=2&tipo_paso1=caja&rand_check=486.3230058787316&from_city2=MAD&to_city2=BUE&auAvailability=1&ida_vuelta=ida_vuelta&vuelos_origen=Buenos%20Aires,%20Argentina%20(BUE)&from_city1=BUE&vuelos_destino=Madrid,%20Espa%F1a%20(MAD)&to_city1=MAD&flex=1&vuelos_fecha_salida=27/DIC/2020&vuelos_fecha_salida_ddmmaaaa=27/12/2020&vuelos_fecha_regreso=21/ENE/2021&vuelos_fecha_regreso_ddmmaaaa=21/01/2021&cabina=Y&nadults=1&nchildren=0&ninfants=0&application=#/'\n",
    "driver = webdriver.Safari()\n",
    "driver.get(url)\n",
    "\n",
    "#Introducir una demora\n",
    "delay = 10\n",
    "try:\n",
    "    #Introducir una demora inteligente\n",
    "    vuelo = WebDriverWait(driver, delay).until(EC.presence_of_element_located((By.XPATH, '//li[@class=\"flight\"]')))\n",
    "    print('La página terminó de cargar')\n",
    "    info_vuelos = obtener_info(driver)\n",
    "except TimeoutException:\n",
    "    print('La página tardó demasiado en cargar')\n",
    "    info_vuelos =[]\n",
    "driver.close()"
   ]
  },
  {
   "cell_type": "code",
   "execution_count": 39,
   "metadata": {},
   "outputs": [
    {
     "data": {
      "text/plain": [
       "[{'precios': [{'LIGHT': {'moneda': 'ARS', 'valor': '50.403,38'}},\n",
       "   {'PLUS': {'moneda': 'ARS', 'valor': '58.014,38'}},\n",
       "   {'TOP': {'moneda': 'ARS', 'valor': '66.385,62'}}],\n",
       "  'tiempos': {'hora_salida': '18:00',\n",
       "   'hora_llegada': '14:10',\n",
       "   'duracion': 'PT15H10M'},\n",
       "  'escalas': [{'origen': 'EZE', 'duracion_vuelo': '18:00'},\n",
       "   {'origen': 'GRU', 'duracion_vuelo': '22:55'}]},\n",
       " {'precios': [{'LIGHT': {'moneda': 'ARS', 'valor': '50.403,38'}},\n",
       "   {'PLUS': {'moneda': 'ARS', 'valor': '58.014,38'}},\n",
       "   {'TOP': {'moneda': 'ARS', 'valor': '66.385,62'}}],\n",
       "  'tiempos': {'hora_salida': '15:35',\n",
       "   'hora_llegada': '14:10',\n",
       "   'duracion': 'PT17H35M'},\n",
       "  'escalas': [{'origen': 'EZE', 'duracion_vuelo': '15:35'},\n",
       "   {'origen': 'GRU', 'duracion_vuelo': '22:55'}]},\n",
       " {'precios': [{'LIGHT': {'moneda': 'ARS', 'valor': '50.403,38'}},\n",
       "   {'PLUS': {'moneda': 'ARS', 'valor': '58.014,38'}},\n",
       "   {'TOP': {'moneda': 'ARS', 'valor': '66.385,62'}}],\n",
       "  'tiempos': {'hora_salida': '12:40',\n",
       "   'hora_llegada': '12:50',\n",
       "   'duracion': 'PT19H10M'},\n",
       "  'escalas': [{'origen': 'EZE', 'duracion_vuelo': '12:40'},\n",
       "   {'origen': 'SCL', 'duracion_vuelo': '17:55'}]},\n",
       " {'precios': [{'LIGHT': {'moneda': 'ARS', 'valor': '50.403,38'}},\n",
       "   {'PLUS': {'moneda': 'ARS', 'valor': '58.014,38'}},\n",
       "   {'TOP': {'moneda': 'ARS', 'valor': '66.385,62'}}],\n",
       "  'tiempos': {'hora_salida': '11:18',\n",
       "   'hora_llegada': '12:50',\n",
       "   'duracion': 'PT20H32M'},\n",
       "  'escalas': [{'origen': 'EZE', 'duracion_vuelo': '11:18'},\n",
       "   {'origen': 'SCL', 'duracion_vuelo': '17:55'}]},\n",
       " {'precios': [{'LIGHT': {'moneda': 'ARS', 'valor': '50.403,38'}},\n",
       "   {'PLUS': {'moneda': 'ARS', 'valor': '58.014,38'}},\n",
       "   {'TOP': {'moneda': 'ARS', 'valor': '66.385,62'}}],\n",
       "  'tiempos': {'hora_salida': '12:35',\n",
       "   'hora_llegada': '14:10',\n",
       "   'duracion': 'PT20H35M'},\n",
       "  'escalas': [{'origen': 'EZE', 'duracion_vuelo': '12:35'},\n",
       "   {'origen': 'GRU', 'duracion_vuelo': '22:55'}]},\n",
       " {'precios': [{'LIGHT': {'moneda': 'ARS', 'valor': '50.403,38'}},\n",
       "   {'PLUS': {'moneda': 'ARS', 'valor': '58.014,38'}},\n",
       "   {'TOP': {'moneda': 'ARS', 'valor': '66.385,62'}}],\n",
       "  'tiempos': {'hora_salida': '07:00',\n",
       "   'hora_llegada': '12:50',\n",
       "   'duracion': 'PT24H50M'},\n",
       "  'escalas': [{'origen': 'EZE', 'duracion_vuelo': '07:00'},\n",
       "   {'origen': 'SCL', 'duracion_vuelo': '17:55'}]},\n",
       " {'precios': [{'LIGHT': {'moneda': 'ARS', 'valor': '50.403,38'}},\n",
       "   {'PLUS': {'moneda': 'ARS', 'valor': '58.014,38'}},\n",
       "   {'TOP': {'moneda': 'ARS', 'valor': '66.385,62'}}],\n",
       "  'tiempos': {'hora_salida': '08:15',\n",
       "   'hora_llegada': '14:10',\n",
       "   'duracion': 'PT24H55M'},\n",
       "  'escalas': [{'origen': 'EZE', 'duracion_vuelo': '08:15'},\n",
       "   {'origen': 'GRU', 'duracion_vuelo': '22:55'}]},\n",
       " {'precios': [{'LIGHT': {'moneda': 'ARS', 'valor': '50.403,38'}},\n",
       "   {'PLUS': {'moneda': 'ARS', 'valor': '58.014,38'}},\n",
       "   {'TOP': {'moneda': 'ARS', 'valor': '66.385,62'}}],\n",
       "  'tiempos': {'hora_salida': '06:15',\n",
       "   'hora_llegada': '12:50',\n",
       "   'duracion': 'PT25H35M'},\n",
       "  'escalas': [{'origen': 'EZE', 'duracion_vuelo': '06:15'},\n",
       "   {'origen': 'SCL', 'duracion_vuelo': '17:55'}]},\n",
       " {'precios': [{'LIGHT': {'moneda': 'ARS', 'valor': '91.198,34'}},\n",
       "   {'PLUS': {'moneda': 'ARS', 'valor': '85.109,54'}},\n",
       "   {'TOP': {'moneda': 'ARS', 'valor': '95.307,42'}}],\n",
       "  'tiempos': {'hora_salida': '07:50',\n",
       "   'hora_llegada': '18:05',\n",
       "   'duracion': 'PT29H15M'},\n",
       "  'escalas': [{'origen': 'EZE', 'duracion_vuelo': '07:50'},\n",
       "   {'origen': 'LIM', 'duracion_vuelo': '22:55'}]},\n",
       " {'precios': [{'LIGHT': {'moneda': 'ARS', 'valor': '139.603,87'}},\n",
       "   {'PLUS': {'moneda': 'ARS', 'valor': '126.512,95'}},\n",
       "   {'TOP': {'moneda': 'ARS', 'valor': '140.973,42'}}],\n",
       "  'tiempos': {'hora_salida': '07:50',\n",
       "   'hora_llegada': '14:15',\n",
       "   'duracion': 'PT25H25M'},\n",
       "  'escalas': [{'origen': 'EZE', 'duracion_vuelo': '07:50'},\n",
       "   {'origen': 'LIM', 'duracion_vuelo': '20:45'}]},\n",
       " {'precios': [{'LIGHT': {'moneda': 'ARS', 'valor': '52.685,82'}},\n",
       "   {'PLUS': {'moneda': 'ARS', 'valor': '60.601,26'}},\n",
       "   {'TOP': {'moneda': 'ARS', 'valor': '69.402,68'}}],\n",
       "  'tiempos': {'hora_salida': '12:40',\n",
       "   'hora_llegada': '14:10',\n",
       "   'duracion': 'PT20H30M'},\n",
       "  'escalas': [{'origen': 'EZE', 'duracion_vuelo': '12:40'},\n",
       "   {'origen': 'SCL', 'duracion_vuelo': '15:55'},\n",
       "   {'origen': 'GRU', 'duracion_vuelo': '22:55'}]},\n",
       " {'precios': [{'LIGHT': {'moneda': 'ARS', 'valor': '52.685,82'}},\n",
       "   {'PLUS': {'moneda': 'ARS', 'valor': '60.601,26'}},\n",
       "   {'TOP': {'moneda': 'ARS', 'valor': '69.402,68'}}],\n",
       "  'tiempos': {'hora_salida': '11:18',\n",
       "   'hora_llegada': '14:10',\n",
       "   'duracion': 'PT21H52M'},\n",
       "  'escalas': [{'origen': 'EZE', 'duracion_vuelo': '11:18'},\n",
       "   {'origen': 'SCL', 'duracion_vuelo': '15:55'},\n",
       "   {'origen': 'GRU', 'duracion_vuelo': '22:55'}]},\n",
       " {'precios': [{'LIGHT': {'moneda': 'ARS', 'valor': '63.189,86'}},\n",
       "   {'PLUS': {'moneda': 'ARS', 'valor': '73.692,18'}},\n",
       "   {'TOP': {'moneda': 'ARS', 'valor': '85.109,54'}}],\n",
       "  'tiempos': {'hora_salida': '08:15',\n",
       "   'hora_llegada': '12:50',\n",
       "   'duracion': 'PT23H35M'},\n",
       "  'escalas': [{'origen': 'EZE', 'duracion_vuelo': '08:15'},\n",
       "   {'origen': 'GRU', 'duracion_vuelo': '13:40'},\n",
       "   {'origen': 'SCL', 'duracion_vuelo': '17:55'}]},\n",
       " {'precios': [{'LIGHT': {'moneda': 'ARS', 'valor': '79.476,54'}},\n",
       "   {'PLUS': {'moneda': 'ARS', 'valor': '88.914,18'}},\n",
       "   {'TOP': {'moneda': 'ARS', 'valor': '99.722,66'}}],\n",
       "  'tiempos': {'hora_salida': '12:40',\n",
       "   'hora_llegada': '18:05',\n",
       "   'duracion': 'PT24H25M'},\n",
       "  'escalas': [{'origen': 'EZE', 'duracion_vuelo': '12:40'},\n",
       "   {'origen': 'SCL', 'duracion_vuelo': '18:20'},\n",
       "   {'origen': 'LIM', 'duracion_vuelo': '22:55'}]},\n",
       " {'precios': [{'LIGHT': {'moneda': 'ARS', 'valor': '79.476,54'}},\n",
       "   {'PLUS': {'moneda': 'ARS', 'valor': '88.914,18'}},\n",
       "   {'TOP': {'moneda': 'ARS', 'valor': '99.722,66'}}],\n",
       "  'tiempos': {'hora_salida': '12:40',\n",
       "   'hora_llegada': '18:05',\n",
       "   'duracion': 'PT24H25M'},\n",
       "  'escalas': [{'origen': 'EZE', 'duracion_vuelo': '12:40'},\n",
       "   {'origen': 'SCL', 'duracion_vuelo': '16:12'},\n",
       "   {'origen': 'LIM', 'duracion_vuelo': '22:55'}]},\n",
       " {'precios': [{'LIGHT': {'moneda': 'ARS', 'valor': '79.476,54'}},\n",
       "   {'PLUS': {'moneda': 'ARS', 'valor': '88.914,18'}},\n",
       "   {'TOP': {'moneda': 'ARS', 'valor': '99.722,66'}}],\n",
       "  'tiempos': {'hora_salida': '11:18',\n",
       "   'hora_llegada': '18:05',\n",
       "   'duracion': 'PT25H47M'},\n",
       "  'escalas': [{'origen': 'EZE', 'duracion_vuelo': '11:18'},\n",
       "   {'origen': 'SCL', 'duracion_vuelo': '18:20'},\n",
       "   {'origen': 'LIM', 'duracion_vuelo': '22:55'}]},\n",
       " {'precios': [{'LIGHT': {'moneda': 'ARS', 'valor': '79.476,54'}},\n",
       "   {'PLUS': {'moneda': 'ARS', 'valor': '88.914,18'}},\n",
       "   {'TOP': {'moneda': 'ARS', 'valor': '99.722,66'}}],\n",
       "  'tiempos': {'hora_salida': '11:18',\n",
       "   'hora_llegada': '18:05',\n",
       "   'duracion': 'PT25H47M'},\n",
       "  'escalas': [{'origen': 'EZE', 'duracion_vuelo': '11:18'},\n",
       "   {'origen': 'SCL', 'duracion_vuelo': '16:12'},\n",
       "   {'origen': 'LIM', 'duracion_vuelo': '22:55'}]},\n",
       " {'precios': [{'LIGHT': {'moneda': 'ARS', 'valor': '79.476,54'}},\n",
       "   {'PLUS': {'moneda': 'ARS', 'valor': '88.914,18'}},\n",
       "   {'TOP': {'moneda': 'ARS', 'valor': '99.722,66'}}],\n",
       "  'tiempos': {'hora_salida': '11:18',\n",
       "   'hora_llegada': '18:05',\n",
       "   'duracion': 'PT25H47M'},\n",
       "  'escalas': [{'origen': 'EZE', 'duracion_vuelo': '11:18'},\n",
       "   {'origen': 'SCL', 'duracion_vuelo': '14:07'},\n",
       "   {'origen': 'LIM', 'duracion_vuelo': '22:55'}]},\n",
       " {'precios': [{'LIGHT': {'moneda': 'ARS', 'valor': '79.476,54'}},\n",
       "   {'PLUS': {'moneda': 'ARS', 'valor': '88.914,18'}},\n",
       "   {'TOP': {'moneda': 'ARS', 'valor': '99.722,66'}}],\n",
       "  'tiempos': {'hora_salida': '11:18',\n",
       "   'hora_llegada': '18:05',\n",
       "   'duracion': 'PT25H47M'},\n",
       "  'escalas': [{'origen': 'EZE', 'duracion_vuelo': '11:18'},\n",
       "   {'origen': 'SCL', 'duracion_vuelo': '14:29'},\n",
       "   {'origen': 'LIM', 'duracion_vuelo': '22:55'}]},\n",
       " {'precios': [{'LIGHT': {'moneda': 'ARS', 'valor': '52.685,82'}},\n",
       "   {'PLUS': {'moneda': 'ARS', 'valor': '60.601,26'}},\n",
       "   {'TOP': {'moneda': 'ARS', 'valor': '69.402,68'}}],\n",
       "  'tiempos': {'hora_salida': '22:01',\n",
       "   'hora_llegada': '14:10',\n",
       "   'duracion': 'PT35H9M'},\n",
       "  'escalas': [{'origen': 'EZE', 'duracion_vuelo': '22:01'},\n",
       "   {'origen': 'SCL', 'duracion_vuelo': '08:30'},\n",
       "   {'origen': 'GRU', 'duracion_vuelo': '22:55'}]},\n",
       " {'precios': [{'LIGHT': {'moneda': 'ARS', 'valor': '79.476,54'}},\n",
       "   {'PLUS': {'moneda': 'ARS', 'valor': '88.914,18'}},\n",
       "   {'TOP': {'moneda': 'ARS', 'valor': '99.722,66'}}],\n",
       "  'tiempos': {'hora_salida': '22:01',\n",
       "   'hora_llegada': '14:10',\n",
       "   'duracion': 'PT35H9M'},\n",
       "  'escalas': [{'origen': 'EZE', 'duracion_vuelo': '22:01'},\n",
       "   {'origen': 'SCL', 'duracion_vuelo': '06:00'},\n",
       "   {'origen': 'GRU', 'duracion_vuelo': '22:55'}]},\n",
       " {'precios': [{'LIGHT': {'moneda': 'ARS', 'valor': '63.189,86'}},\n",
       "   {'PLUS': {'moneda': 'ARS', 'valor': '73.692,18'}},\n",
       "   {'TOP': {'moneda': 'ARS', 'valor': '85.109,54'}}],\n",
       "  'tiempos': {'hora_salida': '19:35',\n",
       "   'hora_llegada': '12:50',\n",
       "   'duracion': 'PT36H15M'},\n",
       "  'escalas': [{'origen': 'EZE', 'duracion_vuelo': '19:35'},\n",
       "   {'origen': 'GRU', 'duracion_vuelo': '06:45'},\n",
       "   {'origen': 'SCL', 'duracion_vuelo': '17:55'}]},\n",
       " {'precios': [{'LIGHT': {'moneda': 'ARS', 'valor': '64.103,18'}},\n",
       "   {'PLUS': {'moneda': 'ARS', 'valor': '74.149,70'}},\n",
       "   {'TOP': {'moneda': 'ARS', 'valor': '84.956,46'}}],\n",
       "  'tiempos': {'hora_salida': '20:08',\n",
       "   'hora_llegada': '14:10',\n",
       "   'duracion': 'PT37H2M'},\n",
       "  'escalas': [{'origen': 'EZE', 'duracion_vuelo': '20:08'},\n",
       "   {'origen': 'LIM', 'duracion_vuelo': '09:35'},\n",
       "   {'origen': 'GRU', 'duracion_vuelo': '22:55'}]},\n",
       " {'precios': [{'LIGHT': {'moneda': 'ARS', 'valor': '52.685,82'}},\n",
       "   {'PLUS': {'moneda': 'ARS', 'valor': '60.601,26'}},\n",
       "   {'TOP': {'moneda': 'ARS', 'valor': '69.402,68'}}],\n",
       "  'tiempos': {'hora_salida': '19:35',\n",
       "   'hora_llegada': '14:10',\n",
       "   'duracion': 'PT37H35M'},\n",
       "  'escalas': [{'origen': 'EZE', 'duracion_vuelo': '19:35'},\n",
       "   {'origen': 'SCL', 'duracion_vuelo': '08:30'},\n",
       "   {'origen': 'GRU', 'duracion_vuelo': '22:55'}]},\n",
       " {'precios': [{'LIGHT': {'moneda': 'ARS', 'valor': '79.476,54'}},\n",
       "   {'PLUS': {'moneda': 'ARS', 'valor': '88.914,18'}},\n",
       "   {'TOP': {'moneda': 'ARS', 'valor': '99.722,66'}}],\n",
       "  'tiempos': {'hora_salida': '19:35',\n",
       "   'hora_llegada': '14:10',\n",
       "   'duracion': 'PT37H35M'},\n",
       "  'escalas': [{'origen': 'EZE', 'duracion_vuelo': '19:35'},\n",
       "   {'origen': 'SCL', 'duracion_vuelo': '06:00'},\n",
       "   {'origen': 'GRU', 'duracion_vuelo': '22:55'}]},\n",
       " {'precios': [{'LIGHT': {'moneda': 'ARS', 'valor': '70.120,32'}},\n",
       "   {'PLUS': {'moneda': 'ARS', 'valor': '62.813,76'}},\n",
       "   {'TOP': {'moneda': 'ARS', 'valor': '71.615,18'}}],\n",
       "  'tiempos': {'hora_salida': '18:20',\n",
       "   'hora_llegada': '14:10',\n",
       "   'duracion': 'PT38H50M'},\n",
       "  'escalas': [{'origen': 'EZE', 'duracion_vuelo': '18:20'},\n",
       "   {'origen': 'SCL', 'duracion_vuelo': '08:30'},\n",
       "   {'origen': 'GRU', 'duracion_vuelo': '22:55'}]},\n",
       " {'precios': [{'LIGHT': {'moneda': 'ARS', 'valor': '70.800,86'}},\n",
       "   {'PLUS': {'moneda': 'ARS', 'valor': '79.780,98'}},\n",
       "   {'TOP': {'moneda': 'ARS', 'valor': '90.100,14'}}],\n",
       "  'tiempos': {'hora_salida': '18:20',\n",
       "   'hora_llegada': '14:10',\n",
       "   'duracion': 'PT38H50M'},\n",
       "  'escalas': [{'origen': 'EZE', 'duracion_vuelo': '18:20'},\n",
       "   {'origen': 'SCL', 'duracion_vuelo': '06:00'},\n",
       "   {'origen': 'GRU', 'duracion_vuelo': '22:55'}]},\n",
       " {'precios': [{'LIGHT': {'moneda': 'ARS', 'valor': '78.107,42'}},\n",
       "   {'PLUS': {'moneda': 'ARS', 'valor': '62.885,42'}},\n",
       "   {'TOP': {'moneda': 'ARS', 'valor': '72.474,42'}}],\n",
       "  'tiempos': {'hora_salida': '12:40',\n",
       "   'hora_llegada': '14:15',\n",
       "   'duracion': 'PT20H35M'},\n",
       "  'escalas': [{'origen': 'EZE', 'duracion_vuelo': '12:40'},\n",
       "   {'origen': 'SCL', 'duracion_vuelo': '16:12'},\n",
       "   {'origen': 'LIM', 'duracion_vuelo': '20:45'}]},\n",
       " {'precios': [{'LIGHT': {'moneda': 'ARS', 'valor': '120.438,58'}},\n",
       "   {'PLUS': {'moneda': 'ARS', 'valor': '133.985,30'}},\n",
       "   {'TOP': {'moneda': 'ARS', 'valor': '149.207,30'}}],\n",
       "  'tiempos': {'hora_salida': '19:35',\n",
       "   'hora_llegada': '22:10',\n",
       "   'duracion': 'PT21H35M'},\n",
       "  'escalas': [{'origen': 'EZE', 'duracion_vuelo': '19:35'},\n",
       "   {'origen': 'GRU', 'duracion_vuelo': '23:50'},\n",
       "   {'origen': 'LHR', 'duracion_vuelo': '18:45'}]},\n",
       " {'precios': [{'LIGHT': {'moneda': 'ARS', 'valor': '120.438,58'}},\n",
       "   {'PLUS': {'moneda': 'ARS', 'valor': '133.985,30'}},\n",
       "   {'TOP': {'moneda': 'ARS', 'valor': '149.207,30'}}],\n",
       "  'tiempos': {'hora_salida': '19:35',\n",
       "   'hora_llegada': '22:10',\n",
       "   'duracion': 'PT21H35M'},\n",
       "  'escalas': [{'origen': 'EZE', 'duracion_vuelo': '19:35'},\n",
       "   {'origen': 'GRU', 'duracion_vuelo': '23:50'},\n",
       "   {'origen': 'LHR', 'duracion_vuelo': '18:40'}]},\n",
       " {'precios': [{'LIGHT': {'moneda': 'ARS', 'valor': '78.107,42'}},\n",
       "   {'PLUS': {'moneda': 'ARS', 'valor': '62.885,42'}},\n",
       "   {'TOP': {'moneda': 'ARS', 'valor': '72.474,42'}}],\n",
       "  'tiempos': {'hora_salida': '11:18',\n",
       "   'hora_llegada': '14:15',\n",
       "   'duracion': 'PT21H57M'},\n",
       "  'escalas': [{'origen': 'EZE', 'duracion_vuelo': '11:18'},\n",
       "   {'origen': 'SCL', 'duracion_vuelo': '16:12'},\n",
       "   {'origen': 'LIM', 'duracion_vuelo': '20:45'}]},\n",
       " {'precios': [{'LIGHT': {'moneda': 'ARS', 'valor': '120.438,58'}},\n",
       "   {'PLUS': {'moneda': 'ARS', 'valor': '133.985,30'}},\n",
       "   {'TOP': {'moneda': 'ARS', 'valor': '149.207,30'}}],\n",
       "  'tiempos': {'hora_salida': '18:00',\n",
       "   'hora_llegada': '22:10',\n",
       "   'duracion': 'PT23H10M'},\n",
       "  'escalas': [{'origen': 'EZE', 'duracion_vuelo': '18:00'},\n",
       "   {'origen': 'GRU', 'duracion_vuelo': '23:50'},\n",
       "   {'origen': 'LHR', 'duracion_vuelo': '18:40'}]},\n",
       " {'precios': [{'LIGHT': {'moneda': 'ARS', 'valor': '120.438,58'}},\n",
       "   {'PLUS': {'moneda': 'ARS', 'valor': '133.985,30'}},\n",
       "   {'TOP': {'moneda': 'ARS', 'valor': '149.207,30'}}],\n",
       "  'tiempos': {'hora_salida': '18:00',\n",
       "   'hora_llegada': '22:10',\n",
       "   'duracion': 'PT23H10M'},\n",
       "  'escalas': [{'origen': 'EZE', 'duracion_vuelo': '18:00'},\n",
       "   {'origen': 'GRU', 'duracion_vuelo': '23:50'},\n",
       "   {'origen': 'LHR', 'duracion_vuelo': '18:45'}]},\n",
       " {'precios': [{'LIGHT': {'moneda': 'ARS', 'valor': '120.438,58'}},\n",
       "   {'PLUS': {'moneda': 'ARS', 'valor': '133.985,30'}},\n",
       "   {'TOP': {'moneda': 'ARS', 'valor': '149.207,30'}}],\n",
       "  'tiempos': {'hora_salida': '15:35',\n",
       "   'hora_llegada': '22:10',\n",
       "   'duracion': 'PT25H35M'},\n",
       "  'escalas': [{'origen': 'EZE', 'duracion_vuelo': '15:35'},\n",
       "   {'origen': 'GRU', 'duracion_vuelo': '23:50'},\n",
       "   {'origen': 'LHR', 'duracion_vuelo': '18:40'}]},\n",
       " {'precios': [{'LIGHT': {'moneda': 'ARS', 'valor': '78.107,42'}},\n",
       "   {'PLUS': {'moneda': 'ARS', 'valor': '62.885,42'}},\n",
       "   {'TOP': {'moneda': 'ARS', 'valor': '72.474,42'}}],\n",
       "  'tiempos': {'hora_salida': '07:00',\n",
       "   'hora_llegada': '14:15',\n",
       "   'duracion': 'PT26H15M'},\n",
       "  'escalas': [{'origen': 'EZE', 'duracion_vuelo': '07:00'},\n",
       "   {'origen': 'SCL', 'duracion_vuelo': '14:07'},\n",
       "   {'origen': 'LIM', 'duracion_vuelo': '20:45'}]},\n",
       " {'precios': [{'LIGHT': {'moneda': 'ARS', 'valor': '78.107,42'}},\n",
       "   {'PLUS': {'moneda': 'ARS', 'valor': '62.885,42'}},\n",
       "   {'TOP': {'moneda': 'ARS', 'valor': '72.474,42'}}],\n",
       "  'tiempos': {'hora_salida': '07:00',\n",
       "   'hora_llegada': '14:15',\n",
       "   'duracion': 'PT26H15M'},\n",
       "  'escalas': [{'origen': 'EZE', 'duracion_vuelo': '07:00'},\n",
       "   {'origen': 'SCL', 'duracion_vuelo': '16:12'},\n",
       "   {'origen': 'LIM', 'duracion_vuelo': '20:45'}]},\n",
       " {'precios': [{'LIGHT': {'moneda': 'ARS', 'valor': '78.107,42'}},\n",
       "   {'PLUS': {'moneda': 'ARS', 'valor': '62.885,42'}},\n",
       "   {'TOP': {'moneda': 'ARS', 'valor': '72.474,42'}}],\n",
       "  'tiempos': {'hora_salida': '07:00',\n",
       "   'hora_llegada': '14:15',\n",
       "   'duracion': 'PT26H15M'},\n",
       "  'escalas': [{'origen': 'EZE', 'duracion_vuelo': '07:00'},\n",
       "   {'origen': 'SCL', 'duracion_vuelo': '11:09'},\n",
       "   {'origen': 'LIM', 'duracion_vuelo': '20:45'}]},\n",
       " {'precios': [{'LIGHT': {'moneda': 'ARS', 'valor': '78.107,42'}},\n",
       "   {'PLUS': {'moneda': 'ARS', 'valor': '62.885,42'}},\n",
       "   {'TOP': {'moneda': 'ARS', 'valor': '72.474,42'}}],\n",
       "  'tiempos': {'hora_salida': '07:00',\n",
       "   'hora_llegada': '14:15',\n",
       "   'duracion': 'PT26H15M'},\n",
       "  'escalas': [{'origen': 'EZE', 'duracion_vuelo': '07:00'},\n",
       "   {'origen': 'SCL', 'duracion_vuelo': '14:29'},\n",
       "   {'origen': 'LIM', 'duracion_vuelo': '20:45'}]},\n",
       " {'precios': [{'LIGHT': {'moneda': 'ARS', 'valor': '51.766,58'}},\n",
       "   {'PLUS': {'moneda': 'ARS', 'valor': '59.377,58'}},\n",
       "   {'TOP': {'moneda': 'ARS', 'valor': '67.748,82'}}],\n",
       "  'tiempos': {'hora_salida': '12:35',\n",
       "   'hora_llegada': '12:10',\n",
       "   'duracion': 'PT18H35M'},\n",
       "  'escalas': [{'origen': 'EZE', 'duracion_vuelo': '12:35'},\n",
       "   {'origen': 'GRU', 'duracion_vuelo': '17:20'},\n",
       "   {'origen': 'LIS', 'duracion_vuelo': '09:45'}]},\n",
       " {'precios': [{'LIGHT': {'moneda': 'ARS', 'valor': '58.247,00'}},\n",
       "   {'PLUS': {'moneda': 'ARS', 'valor': '66.619,96'}},\n",
       "   {'TOP': {'moneda': 'ARS', 'valor': '75.876,44'}}],\n",
       "  'tiempos': {'hora_salida': '18:00',\n",
       "   'hora_llegada': '19:45',\n",
       "   'duracion': 'PT20H45M'},\n",
       "  'escalas': [{'origen': 'EZE', 'duracion_vuelo': '18:00'},\n",
       "   {'origen': 'GRU', 'duracion_vuelo': '22:40'},\n",
       "   {'origen': 'FRA', 'duracion_vuelo': '17:10'}]},\n",
       " {'precios': [{'LIGHT': {'moneda': 'ARS', 'valor': '58.247,00'}},\n",
       "   {'PLUS': {'moneda': 'ARS', 'valor': '66.619,96'}},\n",
       "   {'TOP': {'moneda': 'ARS', 'valor': '75.876,44'}}],\n",
       "  'tiempos': {'hora_salida': '15:35',\n",
       "   'hora_llegada': '19:45',\n",
       "   'duracion': 'PT23H10M'},\n",
       "  'escalas': [{'origen': 'EZE', 'duracion_vuelo': '15:35'},\n",
       "   {'origen': 'GRU', 'duracion_vuelo': '22:40'},\n",
       "   {'origen': 'FRA', 'duracion_vuelo': '17:10'}]},\n",
       " {'precios': [{'LIGHT': {'moneda': 'ARS', 'valor': '58.247,00'}},\n",
       "   {'PLUS': {'moneda': 'ARS', 'valor': '66.619,96'}},\n",
       "   {'TOP': {'moneda': 'ARS', 'valor': '75.876,44'}}],\n",
       "  'tiempos': {'hora_salida': '15:35',\n",
       "   'hora_llegada': '21:55',\n",
       "   'duracion': 'PT25H20M'},\n",
       "  'escalas': [{'origen': 'EZE', 'duracion_vuelo': '15:35'},\n",
       "   {'origen': 'GRU', 'duracion_vuelo': '22:40'},\n",
       "   {'origen': 'FRA', 'duracion_vuelo': '19:05'}]},\n",
       " {'precios': [{'PLUS': {'moneda': 'ARS', 'valor': '66.619,96'}},\n",
       "   {'TOP': {'moneda': 'ARS', 'valor': '75.876,44'}}],\n",
       "  'tiempos': {'hora_salida': '15:35',\n",
       "   'hora_llegada': '21:55',\n",
       "   'duracion': 'PT25H20M'},\n",
       "  'escalas': [{'origen': 'EZE', 'duracion_vuelo': '15:35'},\n",
       "   {'origen': 'GRU', 'duracion_vuelo': '22:40'},\n",
       "   {'origen': 'FRA', 'duracion_vuelo': '19:10'}]}]"
      ]
     },
     "execution_count": 39,
     "metadata": {},
     "output_type": "execute_result"
    }
   ],
   "source": [
    "info_vuelos"
   ]
  },
  {
   "cell_type": "code",
   "execution_count": null,
   "metadata": {},
   "outputs": [],
   "source": []
  }
 ],
 "metadata": {
  "kernelspec": {
   "display_name": "Python 3",
   "language": "python",
   "name": "python3"
  },
  "language_info": {
   "codemirror_mode": {
    "name": "ipython",
    "version": 3
   },
   "file_extension": ".py",
   "mimetype": "text/x-python",
   "name": "python",
   "nbconvert_exporter": "python",
   "pygments_lexer": "ipython3",
   "version": "3.7.6"
  }
 },
 "nbformat": 4,
 "nbformat_minor": 4
}
